{
 "cells": [
  {
   "cell_type": "code",
   "execution_count": 6,
   "metadata": {},
   "outputs": [
    {
     "name": "stdout",
     "output_type": "stream",
     "text": [
      "{0: array([[-240, -114],\n",
      "       [ 264,  390]]), 1: array([[-2256, -2130],\n",
      "       [-1752, -1626]]), 2: array([[-4272, -4146],\n",
      "       [-3768, -3642]]), 3: array([[5268, 5232],\n",
      "       [5124, 5088]]), 4: array([[5844, 5808],\n",
      "       [5700, 5664]]), 5: array([[6420, 6384],\n",
      "       [6276, 6240]])}\n"
     ]
    }
   ],
   "source": [
    "import numpy as np\n",
    "from scipy.signal import convolve2d ,correlate2d\n",
    " \n",
    "inputs = np.arange(96).reshape((2, 3, 4, 4))\n",
    "kernels = np.arange(-12, 12).reshape((2, 3, 2, 2))\n",
    "biases = np.arange(2)\n",
    "\n",
    "true_kernel_grads = np.array(\n",
    "    [[[[ -240.,  -114.],\n",
    "     [  264.,   390.]],\n",
    "    [[-2256., -2130.],\n",
    "     [-1752., -1626.]],\n",
    "    [[-4272., -4146.],\n",
    "     [-3768., -3642.]]],\n",
    "   [[[ 5268.,  5232.],\n",
    "     [ 5124.,  5088.]],\n",
    "    [[ 5844.,  5808.],\n",
    "     [ 5700.,  5664.]],\n",
    "    [[ 6420.,  6384.],\n",
    "     [ 6276.,  6240.]]]])\n",
    "\n",
    "true_bias_grads = np.array([-126.,   36.])\n",
    "\n",
    "grads_wrt_outputs = np.arange(-20, 16).reshape((2, 2, 3, 3))\n",
    "\n",
    "\n",
    "  \n",
    "ls = { }\n",
    "grk={}\n",
    "count = 0\n",
    "for i in range(2):\n",
    "    #the number of pic\n",
    "    for m in range(2):\n",
    "        # the nuber of ker\n",
    "        for j in range(3):\n",
    "            ii = inputs[i][j]\n",
    "            grad = grads_wrt_outputs[i][m]\n",
    "            temp = correlate2d(ii,grad, mode='valid')\n",
    "            ls[count] = temp\n",
    "            count = count+1\n",
    "\n",
    "grads_wrt_kernel = kernels\n",
    "\n",
    "for i in range(6):\n",
    "    grk[i]=np.rot90((ls[i]+ls[i+6]),2)\n",
    "\n",
    "    \n",
    "for i in range(6):\n",
    "    \n",
    "    \n",
    "print(grk)\n",
    "\n",
    "            \n",
    "        \n",
    "\n",
    "\n",
    "\n",
    "\n",
    "\n",
    "       \n",
    "        \n",
    "   \n",
    "   "
   ]
  },
  {
   "cell_type": "code",
   "execution_count": null,
   "metadata": {},
   "outputs": [],
   "source": []
  },
  {
   "cell_type": "code",
   "execution_count": null,
   "metadata": {},
   "outputs": [],
   "source": []
  }
 ],
 "metadata": {
  "kernelspec": {
   "display_name": "Python 3",
   "language": "python",
   "name": "python3"
  },
  "language_info": {
   "codemirror_mode": {
    "name": "ipython",
    "version": 3
   },
   "file_extension": ".py",
   "mimetype": "text/x-python",
   "name": "python",
   "nbconvert_exporter": "python",
   "pygments_lexer": "ipython3",
   "version": "3.7.0"
  }
 },
 "nbformat": 4,
 "nbformat_minor": 2
}
